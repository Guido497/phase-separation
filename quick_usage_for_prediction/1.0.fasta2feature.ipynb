{
 "cells": [
  {
   "cell_type": "markdown",
   "metadata": {},
   "source": [
    "# Imports\n",
    "Versions <br>\n",
    "python - 3.6.7 <br>\n",
    "Pandas - 0.23.4 <br>\n",
    "Biopython - 1.73 <br>\n",
    "Scipy - 1.2.0 <br>\n",
    "iupred2d - https://iupred2a.elte.hu/download <br>"
   ]
  },
  {
   "cell_type": "code",
   "execution_count": 1,
   "metadata": {},
   "outputs": [],
   "source": [
    "# start with loading the required packages\n",
    "import os\n",
    "import ntpath\n",
    "import datetime\n",
    "import pandas as pd\n",
    "from Bio import SeqIO\n",
    "from scipy import signal\n",
    "from iupred2a import iupred2a\n",
    "from Bio.SeqUtils.ProtParam import ProteinAnalysis\n",
    "from tqdm.auto import tqdm\n",
    "\n",
    "from multiprocessing import Pool\n",
    "# Windows\n",
    "CWD = os.getcwd()"
   ]
  },
  {
   "cell_type": "markdown",
   "metadata": {},
   "source": [
    "# Statics"
   ]
  },
  {
   "cell_type": "code",
   "execution_count": 3,
   "metadata": {},
   "outputs": [],
   "source": [
    "# define amino acids and their hydrophobicity index\n",
    "RESIDUES = ['A', 'C', 'D', 'E', 'F', 'G', 'H', 'I', 'K', 'L',\n",
    "            'M', 'N', 'P', 'Q', 'R', 'S', 'T', 'V', 'W', 'Y']\n",
    "\n",
    "# Kyte & Doolittle {kd} index of hydrophobicity\n",
    "HP = {'A': 1.8, 'R':-4.5, 'N':-3.5, 'D':-3.5, 'C': 2.5,\n",
    "      'Q':-3.5, 'E':-3.5, 'G':-0.4, 'H':-3.2, 'I': 4.5,\n",
    "      'L': 3.8, 'K':-3.9, 'M': 1.9, 'F': 2.8, 'P':-1.6,\n",
    "      'S':-0.8, 'T':-0.7, 'W':-0.9, 'Y':-1.3, 'V': 4.2, 'U': 0.0}"
   ]
  },
  {
   "cell_type": "markdown",
   "metadata": {},
   "source": [
    "# Classes"
   ]
  },
  {
   "cell_type": "code",
   "execution_count": 4,
   "metadata": {},
   "outputs": [],
   "source": [
    "# define classes and functions\n",
    "import time\n",
    "class IuPred:\n",
    "    def __init__(self, glob, short, long):\n",
    "        self.glob = glob\n",
    "        self.short = short\n",
    "        self.long = long\n",
    "\n",
    "\n",
    "class HydroPhobicIndex:\n",
    "    def __init__(self, hpilist):\n",
    "        self.hpilist = hpilist\n",
    "        \n",
    "def calc_idrpred(args):\n",
    "    idx, seq = args\n",
    "    glob = iupred2a.iupred(str(seq), 'glob')\n",
    "    short = iupred2a.iupred(str(seq), 'short')\n",
    "    long = iupred2a.iupred(str(seq), 'long')\n",
    "    idrpred = IuPred(glob, short, long)\n",
    "    return idx, idrpred\n",
    "        \n",
    "\n",
    "class MakeMatrix:\n",
    "    def __init__(self, dbfasta):  \n",
    "        self.df = pd.DataFrame()\n",
    "        executables = [\n",
    "             'self.fasta2df(dbfasta)',\n",
    "             'self.amino_acid_analysis()',\n",
    "             'self.idr_iupred()',\n",
    "             'self.hydrophobic()',\n",
    "             'self.add_iupred_features()',\n",
    "             'self.add_hydrophobic_features()',\n",
    "             'self.add_biochemical_combinations()',\n",
    "             'self.add_lowcomplexity_features()' ,\n",
    "#             #'self.add_plaac()'\n",
    "        ]        \n",
    "        for e in executables:\n",
    "            start = time.time()     \n",
    "            print(e)\n",
    "            exec(e)\n",
    "            end = time.time()        \n",
    "            print(str(round(end - start, 2))+'s '+e)\n",
    "\n",
    "    def fasta2df(self, dbfasta):\n",
    "        rows = list()\n",
    "        with open(dbfasta) as f:\n",
    "            for record in SeqIO.parse(dbfasta, 'fasta'):\n",
    "                seqdict = dict()\n",
    "                seq = str(record.seq)\n",
    "                id = record.description.split('|')                \n",
    "                if id[0] == 'sp':\n",
    "                    uniprot_id = id[1]\n",
    "                    name = id[2].split(' ')[0]\n",
    "                    rows.append([name, uniprot_id, seq])\n",
    "                elif id[0] == 'tr':\n",
    "                    uniprot_id = id[1]\n",
    "                    name = id[2].split(' ')[0]\n",
    "                    rows.append([name, uniprot_id, seq])\n",
    "                else:\n",
    "                    uniprot_id = id[0]\n",
    "                    name = id[2].split(' ')[0]\n",
    "                    rows.append([name, uniprot_id, seq])                    \n",
    "        self.df = pd.DataFrame(rows, columns=['protein_name', 'uniprot_id', 'sequence'])\n",
    "        print(len(self.df))\n",
    "\n",
    "    def idr_iupred(self):\n",
    "        self.df['iupred'] = object\n",
    "        data = list(self.df[\"sequence\"].iteritems())\n",
    "        p = Pool(32)\n",
    "        for idx, idrpred in tqdm(p.imap(calc_idrpred, data), total=self.df.shape[0]):\n",
    "            self.df.at[idx, 'iupred'] = idrpred\n",
    "            \n",
    "    def hydrophobic(self):\n",
    "        for index, row in self.df.iterrows():\n",
    "            hpilst = pd.Series(list(row['sequence'])).map(HP).tolist()\n",
    "            self.df.loc[index, 'HydroPhobicIndex'] = HydroPhobicIndex(hpilst)\n",
    "            \n",
    "    def amino_acid_analysis(self):\n",
    "        for res in RESIDUES:\n",
    "            self.df['fraction_'+res] = self.df['sequence'].str.count(res) / self.df['sequence'].str.len()\n",
    "        self.df['length'] = self.df['sequence'].str.len()\n",
    "        for index, row in tqdm(self.df.iterrows(), total=self.df.shape[0]):\n",
    "        #for index, row in self.df.iterrows():\n",
    "            seq = row['sequence']   \n",
    "            seqanalysis = ProteinAnalysis(seq)\n",
    "            acidist = seqanalysis.get_amino_acids_percent() \n",
    "            self.df.loc[index, 'IEP'] = seqanalysis.isoelectric_point()\n",
    "            if 'X' not in seq and 'B' not in seq:\n",
    "                self.df.loc[index, 'molecular_weight'] = seqanalysis.molecular_weight()\n",
    "            if 'U' not in seq and 'X' not in seq and 'B' not in seq:\n",
    "                self.df.loc[index, 'gravy'] = seqanalysis.gravy()\n",
    "          \n",
    "\n",
    "    def add_iupred_features(self):\n",
    "        for index, row in tqdm(self.df.iterrows(), total=self.df.shape[0]):\n",
    "        #for index, row in self.df.iterrows():\n",
    "            idr = row['iupred'].glob[0]\n",
    "            self.df.loc[index, 'idr_percetage'] = sum(i > .5 for i in list(idr))\n",
    "            self.df.loc[index, 'idr_50'] = sum(i > .5 for i in list(idr)) / len(str(row['sequence']))\n",
    "            self.df.loc[index, 'idr_60'] = sum(i > .6 for i in list(idr)) / len(str(row['sequence']))\n",
    "            self.df.loc[index, 'idr_70'] = sum(i > .7 for i in list(idr)) / len(str(row['sequence']))\n",
    "            self.df.loc[index, 'idr_80'] = sum(i > .8 for i in list(idr)) / len(str(row['sequence']))\n",
    "            self.df.loc[index, 'idr_90'] = sum(i > .9 for i in list(idr)) / len(str(row['sequence']))\n",
    "\n",
    "    def add_hydrophobic_features(self):\n",
    "        hpi0, hpi1, hpi2, hpi3, hpi4, hpi5 = list(), list(), list(), list(), list(), list() \n",
    "        for index, row in tqdm(self.df.iterrows(), total=self.df.shape[0]):\n",
    "        #for index, row in self.df.iterrows():\n",
    "            sw = convolve_signal(row['HydroPhobicIndex'].hpilist, window=30)\n",
    "            hpi0.append(sum(i < -1.5 for i in sw) / len(sw))\n",
    "            # self.df.loc[index, 'hpi_<-1.5_frac'] = hpi\n",
    "            hpi1.append(sum(i < -2.0 for i in sw) / len(sw))\n",
    "            # self.df.loc[index, 'hpi_<-2.0_frac'] = hpi\n",
    "            hpi2.append(sum(i < -2.5 for i in sw) / len(sw))\n",
    "            # self.df.loc[index, 'hpi_<-2.5_frac'] = hpi\n",
    "            hpi3.append(sum(i < -1.5 for i in sw))\n",
    "            # self.df.loc[index, 'hpi_<-1.5'] = hpi\n",
    "            hpi4.append( sum(i < -2.0 for i in sw))\n",
    "            # self.df.loc[index, 'hpi_<-2.0'] = hpi\n",
    "            hpi5.append(sum(i < -2.5 for i in sw))\n",
    "            # self.df.loc[index, 'hpi_<-2.5'] = hpi \n",
    "        self.df['hpi_<-1.5_frac'] = hpi0\n",
    "        self.df['hpi_<-2.0_frac'] = hpi1\n",
    "        self.df['hpi_<-2.5_frac'] = hpi2\n",
    "        self.df['hpi_<-1.5'] = hpi3\n",
    "        self.df['hpi_<-2.0'] = hpi4\n",
    "        self.df['hpi_<-2.5'] = hpi5\n",
    "            \n",
    "\n",
    "    def add_biochemical_combinations(self):\n",
    "        df = self.df\n",
    "        df = df.assign(Asx=df['fraction_D'] + df['fraction_N'])\n",
    "        df = df.assign(Glx=df['fraction_E'] + df['fraction_Q'])\n",
    "        df = df.assign(Xle=df['fraction_I'] + df['fraction_L'])\n",
    "        df = df.assign(Pos_charge=df['fraction_K'] + df['fraction_R'] + df['fraction_H'])\n",
    "        df = df.assign(Neg_charge=df['fraction_D'] + df['fraction_E'])\n",
    "        df = df.assign(Aromatic=df['fraction_F'] + df['fraction_W'] + df['fraction_Y'] + df['fraction_H'])\n",
    "        df = df.assign(Alipatic=df['fraction_V'] + df['fraction_I'] + df['fraction_L'] + df['fraction_M'])\n",
    "        df = df.assign(Small=df['fraction_P'] + df['fraction_G'] + df['fraction_A'] + df['fraction_S'])\n",
    "        df = df.assign(Hydrophilic=(df['fraction_S'] + df['fraction_T'] + df['fraction_H'] + \n",
    "                                    df['fraction_N'] + df['fraction_Q'] + df['fraction_E'] +\n",
    "                                    df['fraction_D'] + df['fraction_K'] + df['fraction_R']))\n",
    "        df = df.assign(Hydrophobic= (df['fraction_V'] + df['fraction_I'] + df['fraction_L'] +\n",
    "                                     df['fraction_F'] + df['fraction_W'] + df['fraction_Y'] +\n",
    "                                     df['fraction_M']))\n",
    "        \n",
    "        # Added in version 2\n",
    "        for dimer in ['GV', 'VG', 'VP', 'PG', 'FG', 'RG', 'GR', 'GG', 'YG', 'GS', 'SG', 'GA', 'GF', 'GD', 'DS']:\n",
    "            self.df[dimer] = self.df['sequence'].str.count(dimer)\n",
    "        df = df.assign(alpha_helix=df['fraction_V'] + df['fraction_I'] + df['fraction_Y'] + df['fraction_F']\n",
    "                      + df['fraction_W'] + df['fraction_L'])\n",
    "        df = df.assign(beta_turn=df['fraction_N'] + df['fraction_P'] + df['fraction_G'] + df['fraction_S'])\n",
    "        df = df.assign(beta_sheet=df['fraction_E'] + df['fraction_M'] + df['fraction_A'] + df['fraction_L'])\n",
    "        # Calculates the aromaticity value of a protein according to Lobry, 1994. \n",
    "        # It is simply the relative frequency of Phe+Trp+Tyr.\n",
    "        df = df.assign(aromaticity=df['fraction_F'] + df['fraction_W'] + df['fraction_Y'])\n",
    "\n",
    "        \n",
    "        \n",
    "        \n",
    "        self.df = df\n",
    "        del df\n",
    "        \n",
    "    def add_lowcomplexityscore(self):\n",
    "        lcs_window = 20\n",
    "        lcs_cutoff = 7\n",
    "        for index, row in self.df.iterrows():\n",
    "            seq = str(row['sequence'])\n",
    "            if len(seq) > lcs_window+1:\n",
    "                sig = list()\n",
    "                for i in range(len(seq)):\n",
    "                    window = (seq[i: i+lcs_window])\n",
    "                    if len(window) == lcs_window:\n",
    "                        acid_comp = len(list(set(window)))\n",
    "                        sig.append(acid_comp)\n",
    "                score = sum([1 if i <= 7 else 0 for i in sig])\n",
    "                self.df.loc[index, 'lcs_score'] = score\n",
    "                self.df.loc[index, 'lcs_fraction'] = score / len(sig)\n",
    "                \n",
    "                \n",
    "    def add_lowcomplexity_features(self):\n",
    "        n_window = 20\n",
    "        cutoff = 7       \n",
    "        n_halfwindow = int(n_window / 2)        \n",
    "        lcs_lowest_complexity = list()\n",
    "        lcs_scores = list()\n",
    "        lcs_fractions = list()\n",
    "        for index, row in tqdm(self.df.iterrows(), total=self.df.shape[0]):      \n",
    "            # Determine low complexity scores\n",
    "            seq = str(row['sequence'])\n",
    "            lcs_acids = list()\n",
    "            sig = list()\n",
    "            \n",
    "            # New\n",
    "            lc_bool = [False] * len(seq)\n",
    "            for i in range(len(seq)):\n",
    "                if i < n_halfwindow:\n",
    "                    peptide = seq[:n_window]        \n",
    "                elif i+n_halfwindow > int(len(seq)):\n",
    "                    peptide = seq[-n_window:]        \n",
    "                else:\n",
    "                    peptide = seq[i-n_halfwindow:i+n_halfwindow]       \n",
    "                complexity = (len(set(peptide)))\n",
    "                if complexity <= 7:\n",
    "                    for bool_index in (i-n_halfwindow, i+n_halfwindow):\n",
    "                        try:\n",
    "                            lc_bool[bool_index] = True\n",
    "                        except IndexError:\n",
    "                            pass\n",
    "                    lcs_acids.append(seq[i])\n",
    "                sig.append(complexity)            \n",
    "            # Adding low complexity scores to list\n",
    "            low_complexity_list = pd.DataFrame({'bool':lc_bool, 'acid':list(seq)}, index=None)\n",
    "            lcs_lowest_complexity.append(min(sig))\n",
    "            lcs_scores.append(len(low_complexity_list.loc[low_complexity_list['bool'] == True]))\n",
    "            lcs_fractions.append(len(low_complexity_list.loc[low_complexity_list['bool'] == True]) / len(seq))\n",
    "            low_complexity_list = pd.DataFrame({'bool':lc_bool, 'acid':list(seq)}, index=None)\n",
    "            if len(lcs_acids) >= n_window:\n",
    "                for i in RESIDUES:\n",
    "                    self.df.loc[index ,i+'_lcscore'] = (len(low_complexity_list.loc[\n",
    "                        (low_complexity_list['bool'] == True) &\n",
    "                        (low_complexity_list['acid'] == i)])\n",
    "                    )\n",
    "                    self.df.loc[index ,i+'_lcfraction'] = (len(low_complexity_list.loc[\n",
    "                        (low_complexity_list['bool'] == True) & \n",
    "                        (low_complexity_list['acid'] == i)]) / len(lcs_acids)\n",
    "                    )\n",
    "        self.df['lcs_fractions'] = lcs_fractions\n",
    "        self.df['lcs_scores'] = lcs_scores\n",
    "        self.df['lcs_lowest_complexity'] = lcs_lowest_complexity\n",
    "        \n",
    "    def add_plaac(self):\n",
    "        plaac = CWD+'/data/plaac/plaac_swissprot140219.tsv'\n",
    "        plaac = pd.read_csv(plaac, sep='\\t')\n",
    "        plaac[['database', 'accession', 'name']] = plaac['SEQid'].str.split('|',expand=True)\n",
    "        plaac = plaac.drop(['SEQid', 'database', 'name', 'PAPAaa', 'STARTaa', \n",
    "                            'ENDaa', 'COREaa', 'MW', 'MWstart', 'MWend', 'MWlen'], axis=1)\n",
    "        self.df = pd.merge(self.df, plaac, left_on='uniprot_id', right_on='accession')\n",
    "        self.df = self.df.drop('accession', axis=1)\n",
    "\n",
    "\n",
    "def convolve_signal(sig, window=25):\n",
    "    win = signal.hann(window)\n",
    "    sig = signal.convolve(sig, win, mode='same') / sum(win)\n",
    "    return sig\n",
    "\n",
    "\n",
    "def average(l):\n",
    "    return sum(l) / len(l)"
   ]
  },
  {
   "cell_type": "code",
   "execution_count": 24,
   "metadata": {},
   "outputs": [],
   "source": [
    "def main(name, fasta_path, operating_system='Windows'):\n",
    "    # Change pathing\n",
    "    \"\"\" Generates and saves a file which contains features of a protein sequence in the defined output directory.\n",
    "    Parameters:\n",
    "        name: Name of the file.\n",
    "        fasta_path: Path of the fasta file which needs to be featured.\n",
    "        operating_system: String which indicates which operating system is used only 'Windows' available.\n",
    "    \"\"\"\n",
    "    data = MakeMatrix(fasta_path)   \n",
    "    now = datetime.datetime.now()\n",
    "    date = (str(now.day) + '-' + str(now.month)  + '-' +  str(now.year))\n",
    "    # define output directory for .pkl file here\n",
    "    data.df.to_pickle('/output/path/'+ name + '_small_' + date + '.pkl')\n",
    "    print('Generated file: ' + name + '_llps_f2f_' + date + '.pkl')\n",
    "    return data.df"
   ]
  },
  {
   "cell_type": "markdown",
   "metadata": {},
   "source": [
    "# Process file"
   ]
  },
  {
   "cell_type": "code",
   "execution_count": 25,
   "metadata": {},
   "outputs": [],
   "source": [
    "# set path to input proteome. This can be downloaded from Uniprot and will have the format of:\n",
    "# >sp|Q96R72|OR4K3_HUMAN Olfactory receptor 4K3 OS=Homo sapiens OX=9606 GN=OR4K3 PE=3 SV=3\n",
    "# FASTA SEQUENCE 1\n",
    "# >sp|QID2|name etc 2\n",
    "# FASTA SEQUENCE 2\n",
    "human_proteome_path = \"/path/to/proteome.fasta\""
   ]
  },
  {
   "cell_type": "code",
   "execution_count": 26,
   "metadata": {},
   "outputs": [
    {
     "name": "stdout",
     "output_type": "stream",
     "text": [
      "self.fasta2df(dbfasta)\n",
      "276\n",
      "30.02s self.fasta2df(dbfasta)\n",
      "self.amino_acid_analysis()\n"
     ]
    },
    {
     "data": {
      "application/vnd.jupyter.widget-view+json": {
       "model_id": "d755feee99bb4c8fa608a86a82e76f40",
       "version_major": 2,
       "version_minor": 0
      },
      "text/plain": [
       "  0%|          | 0/276 [00:00<?, ?it/s]"
      ]
     },
     "metadata": {},
     "output_type": "display_data"
    },
    {
     "name": "stdout",
     "output_type": "stream",
     "text": [
      "0.84s self.amino_acid_analysis()\n",
      "self.idr_iupred()\n"
     ]
    },
    {
     "data": {
      "application/vnd.jupyter.widget-view+json": {
       "model_id": "62f56b9ac3fd4d14975ed130344b56c4",
       "version_major": 2,
       "version_minor": 0
      },
      "text/plain": [
       "  0%|          | 0/276 [00:00<?, ?it/s]"
      ]
     },
     "metadata": {},
     "output_type": "display_data"
    },
    {
     "name": "stdout",
     "output_type": "stream",
     "text": [
      "14.48s self.idr_iupred()\n",
      "self.hydrophobic()\n",
      "0.65s self.hydrophobic()\n",
      "self.add_iupred_features()\n"
     ]
    },
    {
     "data": {
      "application/vnd.jupyter.widget-view+json": {
       "model_id": "acaa9318601a425bba8f6da17674105c",
       "version_major": 2,
       "version_minor": 0
      },
      "text/plain": [
       "  0%|          | 0/276 [00:00<?, ?it/s]"
      ]
     },
     "metadata": {},
     "output_type": "display_data"
    },
    {
     "name": "stdout",
     "output_type": "stream",
     "text": [
      "1.1s self.add_iupred_features()\n",
      "self.add_hydrophobic_features()\n"
     ]
    },
    {
     "data": {
      "application/vnd.jupyter.widget-view+json": {
       "model_id": "45ef8844b58a4f80870fa683f1505b8e",
       "version_major": 2,
       "version_minor": 0
      },
      "text/plain": [
       "  0%|          | 0/276 [00:00<?, ?it/s]"
      ]
     },
     "metadata": {},
     "output_type": "display_data"
    },
    {
     "name": "stdout",
     "output_type": "stream",
     "text": [
      "5.43s self.add_hydrophobic_features()\n",
      "self.add_biochemical_combinations()\n",
      "0.06s self.add_biochemical_combinations()\n",
      "self.add_lowcomplexity_features()\n"
     ]
    },
    {
     "data": {
      "application/vnd.jupyter.widget-view+json": {
       "model_id": "291ea3481b0b48a78a5857ab80858828",
       "version_major": 2,
       "version_minor": 0
      },
      "text/plain": [
       "  0%|          | 0/276 [00:00<?, ?it/s]"
      ]
     },
     "metadata": {},
     "output_type": "display_data"
    },
    {
     "name": "stdout",
     "output_type": "stream",
     "text": [
      "4.27s self.add_lowcomplexity_features()\n",
      "Generated file: small_proteome_llps_f2f_26-7-2021.pkl\n"
     ]
    }
   ],
   "source": [
    "# Run functions to generate the required file with aminoacids and features etc\n",
    "# this wil be saved as a .pkl file in the directory specified in the 'main' function. \n",
    "df = main(name='small_proteome', fasta_path=human_proteome_path)"
   ]
  },
  {
   "cell_type": "code",
   "execution_count": 27,
   "metadata": {},
   "outputs": [
    {
     "data": {
      "text/plain": [
       "<bound method NDFrame.head of     protein_name uniprot_id  \\\n",
       "0    OR4K3_HUMAN     Q96R72   \n",
       "1    O52A1_HUMAN     Q9UKL2   \n",
       "2    O2AG1_HUMAN     Q9H205   \n",
       "3    O10S1_HUMAN     Q8NGN2   \n",
       "4    O11G2_HUMAN     Q8NGC1   \n",
       "..           ...        ...   \n",
       "271  RBBP5_HUMAN     Q15291   \n",
       "272   RBAK_HUMAN     Q9NYW8   \n",
       "273  RB40L_HUMAN     P0C0E4   \n",
       "274    RED_HUMAN     Q13123   \n",
       "275  RAB44_HUMAN     Q7Z6P3   \n",
       "\n",
       "                                              sequence  fraction_A  \\\n",
       "0    MAWSNQSAVTEFILRGLSSSLELQIFYFLFFSIVYAATVLGNLLIV...    0.053968   \n",
       "1    MSISNITVYMPSVLTLVGIPGLESVQCWIGIPFCAIYLIAMIGNSL...    0.073718   \n",
       "2    MELWNFTLGSGFILVGILNDSGSPELLCATITILYLLALISNGLLL...    0.088608   \n",
       "3    MTSRSVCEKMTMTTENPNQTVVSHFFLEGLRYTAKHSSLFFLLFLL...    0.093656   \n",
       "4    MHFLSQNDLNINLIPHLCLHRHSVIAGAFTIHRHMKIFNSPSNSST...    0.052174   \n",
       "..                                                 ...         ...   \n",
       "271  MNLELLESFGQNYPEEADGTLDCISMALTCTFNRWGTLLAVGCNDG...    0.066914   \n",
       "272  MNTLQGPVSFKDVAVDFTQEEWQQLDPDEKITYRDVMLENYSHLVS...    0.023810   \n",
       "273  MSAPGSPDQAYDFLLKFLLVGDRDVGKSEILESLQDGTAESPYSHL...    0.050360   \n",
       "274  MPERDSEPFSNPLAPDGHDVDDPHSFHQSKLTNEDFRKLLMTPRAA...    0.062837   \n",
       "275  METGQRTSRKVRKLGSNRRRQTREPADGEGAAVAPEPESWSSQAAA...    0.092067   \n",
       "\n",
       "     fraction_C  fraction_D  fraction_E  fraction_F  fraction_G  fraction_H  \\\n",
       "0      0.028571    0.028571    0.022222    0.088889    0.044444    0.028571   \n",
       "1      0.032051    0.012821    0.022436    0.086538    0.044872    0.038462   \n",
       "2      0.025316    0.022152    0.031646    0.041139    0.047468    0.028481   \n",
       "3      0.045317    0.018127    0.030211    0.057402    0.051360    0.033233   \n",
       "4      0.037681    0.020290    0.014493    0.092754    0.052174    0.028986   \n",
       "..          ...         ...         ...         ...         ...         ...   \n",
       "271    0.022305    0.079926    0.078067    0.027881    0.074349    0.016729   \n",
       "272    0.060224    0.026611    0.109244    0.044818    0.058824    0.064426   \n",
       "273    0.032374    0.043165    0.039568    0.039568    0.064748    0.025180   \n",
       "274    0.003591    0.091562    0.132855    0.028725    0.043088    0.014363   \n",
       "275    0.007835    0.047013    0.099902    0.030362    0.091087    0.022527   \n",
       "\n",
       "     ...  T_lcfraction  V_lcscore  V_lcfraction  W_lcscore  W_lcfraction  \\\n",
       "0    ...           NaN        NaN           NaN        NaN           NaN   \n",
       "1    ...           NaN        NaN           NaN        NaN           NaN   \n",
       "2    ...           NaN        NaN           NaN        NaN           NaN   \n",
       "3    ...           NaN        NaN           NaN        NaN           NaN   \n",
       "4    ...           NaN        NaN           NaN        NaN           NaN   \n",
       "..   ...           ...        ...           ...        ...           ...   \n",
       "271  ...           NaN        NaN           NaN        NaN           NaN   \n",
       "272  ...           NaN        NaN           NaN        NaN           NaN   \n",
       "273  ...           NaN        NaN           NaN        NaN           NaN   \n",
       "274  ...      0.081081        0.0           0.0        0.0           0.0   \n",
       "275  ...      0.151515        0.0           0.0        0.0           0.0   \n",
       "\n",
       "     Y_lcscore  Y_lcfraction  lcs_fractions  lcs_scores  lcs_lowest_complexity  \n",
       "0          NaN           NaN       0.000000           0                      9  \n",
       "1          NaN           NaN       0.000000           0                      8  \n",
       "2          NaN           NaN       0.000000           0                      8  \n",
       "3          NaN           NaN       0.000000           0                      8  \n",
       "4          NaN           NaN       0.000000           0                      8  \n",
       "..         ...           ...            ...         ...                    ...  \n",
       "271        NaN           NaN       0.000000           0                      8  \n",
       "272        NaN           NaN       0.000000           0                      8  \n",
       "273        NaN           NaN       0.000000           0                      9  \n",
       "274        2.0      0.054054       0.104129          58                      3  \n",
       "275        0.0      0.000000       0.062684          64                      6  \n",
       "\n",
       "[276 rows x 98 columns]>"
      ]
     },
     "execution_count": 27,
     "metadata": {},
     "output_type": "execute_result"
    }
   ],
   "source": [
    "# view generated file\n",
    "df.head"
   ]
  },
  {
   "cell_type": "code",
   "execution_count": null,
   "metadata": {},
   "outputs": [],
   "source": [
    "# save file as .csv if needed\n",
    "df.to_csv('path/of/interest/filename.csv')"
   ]
  }
 ],
 "metadata": {
  "kernelspec": {
   "display_name": "Python 3",
   "language": "python",
   "name": "python3"
  },
  "language_info": {
   "codemirror_mode": {
    "name": "ipython",
    "version": 3
   },
   "file_extension": ".py",
   "mimetype": "text/x-python",
   "name": "python",
   "nbconvert_exporter": "python",
   "pygments_lexer": "ipython3",
   "version": "3.6.8"
  }
 },
 "nbformat": 4,
 "nbformat_minor": 2
}
