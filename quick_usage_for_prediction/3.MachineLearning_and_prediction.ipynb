{
 "cells": [
  {
   "cell_type": "markdown",
   "metadata": {},
   "source": [
    "<h3>Imports and classes</h3>"
   ]
  },
  {
   "cell_type": "code",
   "execution_count": 1,
   "metadata": {},
   "outputs": [
    {
     "name": "stderr",
     "output_type": "stream",
     "text": [
      "/usr/local/lib64/python3.6/site-packages/statsmodels/tools/_testing.py:19: FutureWarning: pandas.util.testing is deprecated. Use the functions in the public API at pandas.testing instead.\n",
      "  import pandas.util.testing as tm\n"
     ]
    }
   ],
   "source": [
    "# load required packages\n",
    "# coding: utf-8\n",
    "%matplotlib inline\n",
    "import os\n",
    "import sys\n",
    "import warnings\n",
    "import statistics\n",
    "import numpy as np\n",
    "import pandas as pd\n",
    "import seaborn as sns\n",
    "import matplotlib.pyplot as plt\n",
    "from random import sample\n",
    "import collections\n",
    "from statistics import mean\n",
    "from tqdm import tqdm\n",
    "\n",
    "# Preprocessing\n",
    "from sklearn.preprocessing import QuantileTransformer\n",
    "from sklearn.decomposition import PCA\n",
    "# Sklearn imports\n",
    "from sklearn.utils import shuffle\n",
    "from sklearn.model_selection import LeaveOneOut\n",
    "from sklearn.model_selection import train_test_split\n",
    "\n",
    "\n",
    "from sklearn.metrics import *\n",
    "\n",
    "from sklearn.feature_selection import VarianceThreshold\n",
    "\n",
    "# Different machine learning models from sklearn\n",
    "from sklearn.ensemble import ExtraTreesClassifier\n",
    "from sklearn.ensemble import GradientBoostingClassifier\n",
    "\n",
    "from sklearn.ensemble import RandomForestClassifier\n",
    "from sklearn.ensemble import AdaBoostClassifier\n",
    "from sklearn.datasets import make_moons, make_circles, make_classification\n",
    "from sklearn.neural_network import MLPClassifier\n",
    "from sklearn.neighbors import KNeighborsClassifier\n",
    "from sklearn.svm import SVC\n",
    "from sklearn.gaussian_process import GaussianProcessClassifier\n",
    "from sklearn.gaussian_process.kernels import RBF\n",
    "from sklearn.tree import DecisionTreeClassifier\n",
    "from sklearn.naive_bayes import GaussianNB\n",
    "from sklearn.discriminant_analysis import QuadraticDiscriminantAnalysis\n",
    "from sklearn.linear_model import SGDClassifier\n",
    "from sklearn.manifold import TSNE\n",
    "from sklearn.metrics import average_precision_score\n",
    "\n",
    "CWD = os.getcwd()\n",
    "RANDOMSTATE = 42\n",
    "\n",
    "class IuPred:\n",
    "    '''\n",
    "    Needs description.\n",
    "    '''    \n",
    "    def __init__(self, glob, short, long):\n",
    "        self.glob = glob\n",
    "        self.short = short\n",
    "        self.long = long\n",
    "\n",
    "\n",
    "class HydroPhobicIndex:\n",
    "    '''\n",
    "    Needs description.\n",
    "    '''\n",
    "    def __init__(self, hpilist):\n",
    "        self.hpilist = hpilist"
   ]
  },
  {
   "cell_type": "code",
   "execution_count": 2,
   "metadata": {},
   "outputs": [],
   "source": [
    "# note: the iupred2a package has to be manually downloaded and placed in a reachable directory of choice"
   ]
  },
  {
   "cell_type": "markdown",
   "metadata": {},
   "source": [
    "<h3>Functions</h3>"
   ]
  },
  {
   "cell_type": "code",
   "execution_count": 4,
   "metadata": {},
   "outputs": [],
   "source": [
    "# define functions required to train the machine learning classifier\n",
    "def preprocess_data(df, scaler):\n",
    "    info = df.select_dtypes(include=['object'])\n",
    "    y = df[instance]\n",
    "    X = df.drop([instance], axis=1)\n",
    "    X = X._get_numeric_data()\n",
    "    columns = X.columns\n",
    "    \n",
    "    X = scaler.fit_transform(X)    \n",
    "    X = pd.DataFrame(X, columns=columns)\n",
    "    X[instance] = y\n",
    "    X = X.merge(info, how='outer', left_index=True, right_index=True)    \n",
    "    return X\n",
    "\n",
    "\n",
    "def remove_correlating_features(df, cutoff=.95, plot=False):\n",
    "    # Set matplotlib parameters\n",
    "    sns.set(rc={'figure.figsize':(8,6)})\n",
    "    plt.rcParams['pdf.fonttype'] = 42\n",
    "    plt.rcParams['ps.fonttype'] = 42\n",
    "    \n",
    "    print('Correlation: Features before %s' % df.shape[1])\n",
    "    \n",
    "    # Create correlation matrix\n",
    "    corr_matrix = df.corr().abs()\n",
    "\n",
    "    # Select upper triangle of correlation matrix\n",
    "    upper = corr_matrix.where(np.triu(np.ones(corr_matrix.shape), k=1).astype(np.bool))\n",
    "\n",
    "    # Find index of feature columns with correlation greater than 0.95\n",
    "    to_drop = [column for column in upper.columns if any(upper[column] > cutoff)]\n",
    "    # Drop features\n",
    "    df = df.drop(to_drop, axis=1)\n",
    "    \n",
    "    \n",
    "    print('Correlation: Features after %s' % df.shape[1])\n",
    "    if plot:\n",
    "        # Plot heatmap\n",
    "        sns.set(rc={'figure.figsize':(11.7,8.27)})\n",
    "        sns.heatmap(data=df.corr(), cmap=sns.color_palette(\"coolwarm\", 20), vmin=-1, vmax=1)\n",
    "        plt.savefig(os.getcwd()+ '\\\\data\\graphs\\\\6.Heatmap_after_correlation.pdf', transparent=True)\n",
    "        plt.show()\n",
    "    return df\n",
    "\n",
    "\n",
    "def varianceSelection(df, threashold=.8):\n",
    "    if not isinstance(df, pd.core.frame.DataFrame):\n",
    "        logger.error('[%s] : [ERROR] Variance selection only possible on Dataframe not %s',\n",
    "                                     datetime.fromtimestamp(time.time()).strftime('%Y-%m-%d %H:%M:%S'), type(df))\n",
    "        sys.exit(1)\n",
    "    sel = VarianceThreshold(threshold=(threashold * (1 - threashold)))\n",
    "    sel.fit_transform(df)\n",
    "    return df[[c for (s, c) in zip(sel.get_support(), df.columns.values) if s]]\n",
    "\n",
    "\n",
    "def filter_low_variance(df, non_feature_columns, variance_cutoff=.8):\n",
    "    df_variancetreshold = varianceSelection(df.drop(non_feature_columns, axis=1), variance_cutoff)\n",
    "    for col in non_feature_columns:\n",
    "        df_variancetreshold[col] = df[col]\n",
    "    return df_variancetreshold\n",
    "\n",
    "\n",
    "def remove_low_variance_features(df, variance_cutoff, plot=False):\n",
    "    print('Low varience: Features before %s' % df.shape[1])\n",
    "    non_feature_columns = ['protein_name', 'sequence', 'llps']\n",
    "    df_variance = filter_low_variance(df, non_feature_columns, variance_cutoff)\n",
    "    print('Low varience: Features after  %s' % df_variance.shape[1])\n",
    "    \n",
    "    # Set matplotlib parameters\n",
    "    if plot:\n",
    "        sns.set(rc={'figure.figsize':(8,6)})\n",
    "        plt.rcParams['pdf.fonttype'] = 42\n",
    "        plt.rcParams['ps.fonttype'] = 42\n",
    "\n",
    "        # Plot heatmap\n",
    "        sns.set(rc={'figure.figsize':(11.7,8.27)})\n",
    "        sns.heatmap(data=df_variance.corr(), cmap=sns.color_palette(\"coolwarm\", 20), vmin=-1, vmax=1)\n",
    "\n",
    "        plt.savefig(os.getcwd()+ '\\\\data\\graphs\\\\6.heatmap_after_low_variance.pdf', transparent=True)\n",
    "        plt.show()\n",
    "    return df_variance\n",
    "\n",
    "\n",
    "def get_feature_importances(df, clf):\n",
    "    '''\n",
    "    Needs description.\n",
    "    '''    \n",
    "    fi = clf.feature_importances_\n",
    "    fi = pd.DataFrame(fi).transpose()\n",
    "    fi.columns = df.columns[1:]\n",
    "    fi = fi.melt()\n",
    "    fi = fi.sort_values('value', ascending=False)\n",
    "    fi = fi.loc[fi['value'] > 0.0]\n",
    "    return fi\n",
    "\n",
    "\n",
    "def select_testing_data(df, instance, ratio=1, info_columns=['protein_name', 'sequence'], random=False):\n",
    "    '''\n",
    "    Class that equalizes the data based on the number of positives.\n",
    "    :param df: dataframe with all the features and instance\n",
    "    :param instance: string of instance columns\n",
    "    :param ratio: ratio of how many negatives should be added (2 = twice as much negative)\n",
    "    :param random: bool which gives a random test set with both instances randomly picked.\n",
    "    :return: 'out' dataframe with new data, and 'df_info' dataframe with the information of \n",
    "    protein name and sequence.\n",
    "    '''\n",
    "    pos = df.loc[df[instance] == 1]\n",
    "    neg_index = df.loc[df[instance] == 0].index\n",
    "    negsubset_index = sample(set(neg_index), len(pos) * ratio)\n",
    "    if random:\n",
    "        possubset_index = sample(set(df.index), len(pos))\n",
    "        negsubset_index = sample(set(df.index), len(pos))\n",
    "        pos = df.loc[possubset_index]\n",
    "        pos[instance] = pos[instance] = 1\n",
    "    neg = df.loc[negsubset_index]\n",
    "    out = pos.append(neg)\n",
    "    out = out.reset_index(drop=True)\n",
    "    df_info = out[info_columns]\n",
    "    out = out.drop(labels=info_columns, axis=1)\n",
    "    return out, df_info\n",
    "\n",
    "\n",
    "def calculate_performance(clf, X_test, y_test):\n",
    "    '''\n",
    "    Needs description.\n",
    "    '''    \n",
    "    prediction = clf.predict(X_test)\n",
    "    correctness = prediction == y_test\n",
    "    distribution = correctness.value_counts(True)\n",
    "    return distribution\n",
    "\n",
    "\n",
    "def train_model(data, clf, instance):\n",
    "    df, df_info = select_testing_data(data, instance, ratio=1, random=False)\n",
    "    X_train, X_test, y_train, y_test = train_test_split(df.drop(instance, axis=1),\n",
    "                                                        df[instance],\n",
    "                                                        test_size=0.5,\n",
    "                                                        random_state=RANDOMSTATE,\n",
    "                                                        )\n",
    "    clf = clf.fit(X_train, y_train)\n",
    "    return clf, X_test, y_test\n",
    "\n",
    "    \n",
    "def plot_pca(df, title='', analysis_name=''):\n",
    "    # Set matplotlib parameters\n",
    "    sns.set(rc={'figure.figsize':(8,6)})\n",
    "    plt.rcParams['pdf.fonttype'] = 42\n",
    "    plt.rcParams['ps.fonttype'] = 42\n",
    "    \n",
    "    \n",
    "    pca = PCA(n_components=2)\n",
    "    X_pca = pca.fit_transform(df.drop(['sequence', 'protein_name'],axis=1))\n",
    "    pca_df = pd.DataFrame(X_pca, columns=['component1', 'component2'])\n",
    "    pca_df['protein_name'] = df['protein_name']\n",
    "    pca_df['llps'] = df.reset_index()['llps']\n",
    "\n",
    "\n",
    "    sns.scatterplot(data=pca_df.loc[pca_df['llps'] == 0],\n",
    "                    x = 'component1',\n",
    "                    y = 'component2',\n",
    "                    alpha = .5,\n",
    "                    color = '#AEB6BF',\n",
    "                    rasterized=True,\n",
    "                   )\n",
    "    sns.scatterplot(data=pca_df.loc[pca_df['llps'] == 1],\n",
    "                    x = 'component1',\n",
    "                    y = 'component2',\n",
    "                    alpha = 1,\n",
    "                    color = '#CD6155',                \n",
    "                   )\n",
    "    \n",
    "    \n",
    "    # print(pca_df.loc[(pca_df['llps'] == 1) & (pca_df['component1'] >= 650)])\n",
    "    \n",
    "    plt.ylabel('Component1 (' + str(round(pca.explained_variance_ratio_[0] * 100, 2)) + '%)')\n",
    "    plt.xlabel('Component2 (' + str(round(pca.explained_variance_ratio_[1] * 100, 2)) + '%)')\n",
    "    plt.title(title)\n",
    "    plt.savefig(os.getcwd()+ f'\\\\analysis\\\\{analysis_name}\\\\PCA_plot.pdf', transparent=True)\n",
    "    plt.show()\n",
    "\n",
    "\n",
    "def average(l):\n",
    "    return sum(l) / len(l)"
   ]
  },
  {
   "cell_type": "markdown",
   "metadata": {},
   "source": [
    "<h1>1. Data processing and feature selection </h1>"
   ]
  },
  {
   "cell_type": "code",
   "execution_count": 5,
   "metadata": {},
   "outputs": [],
   "source": [
    "# data preprocessing\n",
    "def preprocess_and_scaledata(data, instance):\n",
    "    try:\n",
    "        data = data.drop(['iupred', 'HydroPhobicIndex', 'uniprot_id', 'PRDaa'], axis=1)\n",
    "    except KeyError:\n",
    "        data = data.drop(['iupred', 'HydroPhobicIndex', 'uniprot_id'], axis=1)\n",
    "    data = data.fillna(value=0)\n",
    "    print(data.shape)\n",
    "    print('Number of phase separating proteins in dataset: '+str(data.loc[data[instance] == 1].shape[0]))\n",
    "    print(data.shape)\n",
    "    \n",
    "    # scaler = QuantileTransformer(output_distribution='normal')\n",
    "    scaler = QuantileTransformer()\n",
    "    df = data.copy()\n",
    "    processed_data = df.fillna(0)\n",
    "    processed_data = preprocess_data(processed_data, scaler)\n",
    "    #processed_data = remove_correlating_features(processed_data, cutoff=.95)\n",
    "    #processed_data = remove_low_variance_features(processed_data, variance_cutoff=0.08)\n",
    "    return processed_data"
   ]
  },
  {
   "cell_type": "code",
   "execution_count": 7,
   "metadata": {},
   "outputs": [],
   "source": [
    "# could be required depending on package versions used. If the error: name 'pickle' not defined shows up, than \n",
    "# importing pickle5 as pickle provides a suitable workaround\n",
    "import pickle5 as pickle"
   ]
  },
  {
   "cell_type": "code",
   "execution_count": 8,
   "metadata": {},
   "outputs": [],
   "source": [
    "# load : get the data from file\n",
    "data = pickle.load(open(\"/path/to/output/from/workbook2.pkl\", \"rb\"))"
   ]
  },
  {
   "cell_type": "code",
   "execution_count": 9,
   "metadata": {},
   "outputs": [
    {
     "name": "stdout",
     "output_type": "stream",
     "text": [
      "(19504, 96)\n",
      "Number of phase separating proteins in dataset: 90\n",
      "(19504, 96)\n"
     ]
    }
   ],
   "source": [
    "# data filtering to take out very small (<100 AAs) and very big (> 3000 AAs) proteins and\n",
    "# define some things\n",
    "instance = 'llps'\n",
    "data = data.loc[(data['length'] >= 100) & (data['length'] <= 3000)]\n",
    "data = data.reset_index(drop=True)\n",
    "domain_cols = data.columns[data.columns.str.contains(\"^domain\")]\n",
    "domain_data = data[domain_cols]\n",
    "data.drop(columns=domain_cols)\n",
    "data = preprocess_and_scaledata(data, instance)"
   ]
  },
  {
   "cell_type": "markdown",
   "metadata": {},
   "source": [
    "# Test method"
   ]
  },
  {
   "cell_type": "code",
   "execution_count": 11,
   "metadata": {},
   "outputs": [],
   "source": [
    "class EnsembleRandomForest:\n",
    "    def __init__(self):\n",
    "        self.estimators = list()\n",
    "\n",
    "    def fit(self, data, index_list, label):\n",
    "        estimators=list()   \n",
    "        non_numeric_columns = (list(data.select_dtypes(include='object')))\n",
    "        data = data.select_dtypes([np.number])\n",
    "        for index in tqdm(index_list):\n",
    "            df = data.loc[index]\n",
    "            X = df.drop(instance, axis=1)\n",
    "            y = df[label]\n",
    "            clf = RandomForestClassifier()\n",
    "            clf.fit(X, y)\n",
    "            estimators.append(clf)\n",
    "        self.estimators = estimators\n",
    "\n",
    "    def predict_proba(self, df, label):\n",
    "        probabilities = list()\n",
    "        for clf in self.estimators:\n",
    "            probability = clf.predict_proba(df)[:,1]\n",
    "            probabilities.append(probability)\n",
    "        probabilities = np.array(probabilities)\n",
    "        predictions = list()\n",
    "        for i in range(probabilities.shape[1]):\n",
    "            prediction = np.average(probabilities[:,i])\n",
    "            predictions.append(prediction)\n",
    "        return predictions"
   ]
  },
  {
   "cell_type": "code",
   "execution_count": 12,
   "metadata": {},
   "outputs": [],
   "source": [
    "def split_dataframe_data(data, label, n=30, n_negative=30):\n",
    "    positive_label_sample = data[data[label] == 1].sample(n)\n",
    "    negative_label_sample = data[data[label] == 0].sample(n_negative)\n",
    "    train_data = data.drop(list(positive_label_sample.index))\n",
    "    train_data = train_data.drop(list(negative_label_sample.index))\n",
    "    test_data = shuffle(positive_label_sample.append(negative_label_sample)).reset_index(drop=True)      \n",
    "    return train_data, test_data,"
   ]
  },
  {
   "cell_type": "markdown",
   "metadata": {},
   "source": [
    "### K-Fold cross validation\n",
    "\n",
    "Updated: \n",
    "* Now uses `StratifiedKfold` for better selection of positives/negatives per fold.\n",
    "* 10-fold cross-validation.\n"
   ]
  },
  {
   "cell_type": "code",
   "execution_count": 13,
   "metadata": {},
   "outputs": [],
   "source": [
    "from sklearn.model_selection import StratifiedKFold"
   ]
  },
  {
   "cell_type": "code",
   "execution_count": 14,
   "metadata": {},
   "outputs": [],
   "source": [
    "label = 'llps'\n",
    "data_filtered = data.select_dtypes([np.number])\n",
    "X = data_filtered.drop(label, axis=1)\n",
    "y = data_filtered[label]\n",
    "kf = StratifiedKFold(n_splits=10, shuffle=True, random_state=42)"
   ]
  },
  {
   "cell_type": "code",
   "execution_count": 15,
   "metadata": {},
   "outputs": [
    {
     "name": "stderr",
     "output_type": "stream",
     "text": [
      " 10%|█         | 1/10 [00:07<01:10,  7.81s/it]"
     ]
    },
    {
     "name": "stdout",
     "output_type": "stream",
     "text": [
      "Fold 1 ROC AUC: 0.8552\n"
     ]
    },
    {
     "name": "stderr",
     "output_type": "stream",
     "text": [
      "\r",
      " 20%|██        | 2/10 [00:15<01:00,  7.61s/it]"
     ]
    },
    {
     "name": "stdout",
     "output_type": "stream",
     "text": [
      "Fold 2 ROC AUC: 0.7379\n"
     ]
    },
    {
     "name": "stderr",
     "output_type": "stream",
     "text": [
      "\r",
      " 30%|███       | 3/10 [00:22<00:53,  7.58s/it]"
     ]
    },
    {
     "name": "stdout",
     "output_type": "stream",
     "text": [
      "Fold 3 ROC AUC: 0.9053\n"
     ]
    },
    {
     "name": "stderr",
     "output_type": "stream",
     "text": [
      "\r",
      " 40%|████      | 4/10 [00:30<00:45,  7.62s/it]"
     ]
    },
    {
     "name": "stdout",
     "output_type": "stream",
     "text": [
      "Fold 4 ROC AUC: 0.9567\n"
     ]
    },
    {
     "name": "stderr",
     "output_type": "stream",
     "text": [
      "\r",
      " 50%|█████     | 5/10 [00:38<00:38,  7.67s/it]"
     ]
    },
    {
     "name": "stdout",
     "output_type": "stream",
     "text": [
      "Fold 5 ROC AUC: 0.9043\n"
     ]
    },
    {
     "name": "stderr",
     "output_type": "stream",
     "text": [
      "\r",
      " 60%|██████    | 6/10 [00:45<00:30,  7.67s/it]"
     ]
    },
    {
     "name": "stdout",
     "output_type": "stream",
     "text": [
      "Fold 6 ROC AUC: 0.9057\n"
     ]
    },
    {
     "name": "stderr",
     "output_type": "stream",
     "text": [
      "\r",
      " 70%|███████   | 7/10 [00:53<00:23,  7.70s/it]"
     ]
    },
    {
     "name": "stdout",
     "output_type": "stream",
     "text": [
      "Fold 7 ROC AUC: 0.8791\n"
     ]
    },
    {
     "name": "stderr",
     "output_type": "stream",
     "text": [
      "\r",
      " 80%|████████  | 8/10 [01:01<00:15,  7.65s/it]"
     ]
    },
    {
     "name": "stdout",
     "output_type": "stream",
     "text": [
      "Fold 8 ROC AUC: 0.8565\n"
     ]
    },
    {
     "name": "stderr",
     "output_type": "stream",
     "text": [
      "\r",
      " 90%|█████████ | 9/10 [01:08<00:07,  7.62s/it]"
     ]
    },
    {
     "name": "stdout",
     "output_type": "stream",
     "text": [
      "Fold 9 ROC AUC: 0.9126\n"
     ]
    },
    {
     "name": "stderr",
     "output_type": "stream",
     "text": [
      "100%|██████████| 10/10 [01:16<00:00,  7.64s/it]"
     ]
    },
    {
     "name": "stdout",
     "output_type": "stream",
     "text": [
      "Fold 10 ROC AUC: 0.9207\n"
     ]
    },
    {
     "name": "stderr",
     "output_type": "stream",
     "text": [
      "\n"
     ]
    },
    {
     "data": {
      "image/png": "[encoded data removed]",
      "text/plain": [
       "<Figure size 720x720 with 1 Axes>"
      ]
     },
     "metadata": {
      "needs_background": "light"
     },
     "output_type": "display_data"
    }
   ],
   "source": [
    "# perform training and generate ROC curve\n",
    "clf = RandomForestClassifier(n_jobs=32, class_weight=\"balanced\", n_estimators=1200, criterion=\"entropy\")\n",
    "#clf = XGBClassifier(n_jobs=24, scale_pos_weight)\n",
    "all_y_test = list()\n",
    "all_y_proba = list()\n",
    "all_idx = list()\n",
    "plt.figure(figsize=(10, 10))\n",
    "ax = plt.subplot(111)  \n",
    "all_aucs = []\n",
    "for i, (train_index, test_index) in tqdm(enumerate(kf.split(X, y)), total=kf.n_splits):\n",
    "    all_idx.extend(test_index)\n",
    "    # print(\"TRAIN:\", train_index, \"TEST:\", test_index)\n",
    "    X_train, X_test = X.loc[train_index], X.loc[test_index]\n",
    "    y_train, y_test = y.loc[train_index], y.loc[test_index]\n",
    "    #print(y_train.head())\n",
    "    clf.fit(X_train, y_train)\n",
    "    y_proba = clf.predict_proba(X_test)[:,1]\n",
    "    # scores individual\n",
    "    fpr, tpr, _ = roc_curve(y_test, y_proba)\n",
    "     \n",
    "    \n",
    "    all_y_test.extend(y_test)\n",
    "    all_y_proba.extend(y_proba)\n",
    "    \n",
    "    roc_auc = auc(fpr, tpr)\n",
    "    print(f\"Fold {i + 1} ROC AUC: {roc_auc:.4f}\")\n",
    "    all_aucs.append(roc_auc)\n",
    "  \n",
    "    plt.plot(fpr, tpr, color=\"grey\", alpha=0.3)\n",
    "        \n",
    "fpr, tpr, _ = roc_curve(all_y_test, all_y_proba)\n",
    "    \n",
    "roc_auc = auc(fpr, tpr)\n",
    "plt.plot(fpr, tpr, label=f'AUC: {roc_auc:.2f})', color=\"black\", lw=3)\n",
    "\n",
    "plt.title(f'{kf.n_splits}-fold cross validation ROC')    \n",
    "plt.plot([0, 1], [0, 1], 'k--')\n",
    "ax.legend(loc=\"lower right\")\n",
    "plt.xlim([0, 1])\n",
    "plt.ylim([0, 1])\n",
    "plt.show()\n",
    "\n",
    "#print(\"Mean AUC\", np.mean(all_aucs))"
   ]
  },
  {
   "cell_type": "code",
   "execution_count": 16,
   "metadata": {},
   "outputs": [
    {
     "data": {
      "text/plain": [
       "<matplotlib.legend.Legend at 0x7f013dfe89e8>"
      ]
     },
     "execution_count": 16,
     "metadata": {},
     "output_type": "execute_result"
    },
    {
     "data": {
      "image/png": "[encoded data removed]",
      "text/plain": [
       "<Figure size 432x288 with 1 Axes>"
      ]
     },
     "metadata": {
      "needs_background": "light"
     },
     "output_type": "display_data"
    }
   ],
   "source": [
    "# plot precision recall curve\n",
    "ax = plt.subplot(111)\n",
    "average_precision = average_precision_score(all_y_test, all_y_proba)\n",
    "precision, recall, _ = precision_recall_curve(all_y_test, all_y_proba)\n",
    "\n",
    "plt.title('Precision Recall Curve')\n",
    "ax.plot(recall, precision, label=f'PRC curve (area = {round(average_precision,2)})')\n",
    "plt.title(str(average_precision))\n",
    "\n",
    "plt.xlim([-0.1, 1.1])\n",
    "plt.ylim([-0.1, 1.1])\n",
    "ax.legend(loc=\"lower right\")\n"
   ]
  },
  {
   "cell_type": "markdown",
   "metadata": {},
   "source": [
    "# Train final model\n",
    "\n",
    "And predict values for complete proteome."
   ]
  },
  {
   "cell_type": "code",
   "execution_count": 17,
   "metadata": {},
   "outputs": [],
   "source": [
    "clf = RandomForestClassifier(n_jobs=32, class_weight=\"balanced\", n_estimators=1200, criterion=\"entropy\", random_state=42)\n",
    "clf.fit(X, y)\n",
    "psap_prediction = pd.DataFrame(index=data[\"protein_name\"])\n",
    "psap_prediction[\"PSAP_score\"] = clf.predict_proba(X)[:,1]\n",
    "\n",
    "psap_prediction[\"llps\"] = y.values\n",
    "psap_prediction[\"rank\"] = 0  \n",
    "rank = psap_prediction.loc[psap_prediction[\"llps\"] == 0, \"PSAP_score\"].rank(ascending=False)\n",
    "psap_prediction[\"rank\"] = rank"
   ]
  },
  {
   "cell_type": "code",
   "execution_count": null,
   "metadata": {},
   "outputs": [],
   "source": [
    "# Final prediction values can be found in the psap_prediction dataframe\n",
    "psap_prediction.head"
   ]
  },
  {
   "cell_type": "code",
   "execution_count": 19,
   "metadata": {},
   "outputs": [
    {
     "data": {
      "text/html": [
       "<div>\n",
       "<style scoped>\n",
       "    .dataframe tbody tr th:only-of-type {\n",
       "        vertical-align: middle;\n",
       "    }\n",
       "\n",
       "    .dataframe tbody tr th {\n",
       "        vertical-align: top;\n",
       "    }\n",
       "\n",
       "    .dataframe thead th {\n",
       "        text-align: right;\n",
       "    }\n",
       "</style>\n",
       "<table border=\"1\" class=\"dataframe\">\n",
       "  <thead>\n",
       "    <tr style=\"text-align: right;\">\n",
       "      <th></th>\n",
       "      <th>PSAP_score</th>\n",
       "      <th>llps</th>\n",
       "      <th>rank</th>\n",
       "    </tr>\n",
       "    <tr>\n",
       "      <th>protein_name</th>\n",
       "      <th></th>\n",
       "      <th></th>\n",
       "      <th></th>\n",
       "    </tr>\n",
       "  </thead>\n",
       "  <tbody>\n",
       "    <tr>\n",
       "      <th>FXR2_HUMAN</th>\n",
       "      <td>0.072500</td>\n",
       "      <td>0</td>\n",
       "      <td>12.0</td>\n",
       "    </tr>\n",
       "    <tr>\n",
       "      <th>ILF3_HUMAN</th>\n",
       "      <td>0.053333</td>\n",
       "      <td>0</td>\n",
       "      <td>27.0</td>\n",
       "    </tr>\n",
       "    <tr>\n",
       "      <th>YBOX1_HUMAN</th>\n",
       "      <td>0.057500</td>\n",
       "      <td>0</td>\n",
       "      <td>23.5</td>\n",
       "    </tr>\n",
       "    <tr>\n",
       "      <th>THOC4_HUMAN</th>\n",
       "      <td>0.078333</td>\n",
       "      <td>0</td>\n",
       "      <td>6.0</td>\n",
       "    </tr>\n",
       "    <tr>\n",
       "      <th>TFG_HUMAN</th>\n",
       "      <td>0.033333</td>\n",
       "      <td>0</td>\n",
       "      <td>86.0</td>\n",
       "    </tr>\n",
       "  </tbody>\n",
       "</table>\n",
       "</div>"
      ],
      "text/plain": [
       "              PSAP_score  llps  rank\n",
       "protein_name                        \n",
       "FXR2_HUMAN      0.072500     0  12.0\n",
       "ILF3_HUMAN      0.053333     0  27.0\n",
       "YBOX1_HUMAN     0.057500     0  23.5\n",
       "THOC4_HUMAN     0.078333     0   6.0\n",
       "TFG_HUMAN       0.033333     0  86.0"
      ]
     },
     "execution_count": 19,
     "metadata": {},
     "output_type": "execute_result"
    }
   ],
   "source": [
    "# check some example proteins\n",
    "psap_prediction.loc[[\"FXR2_HUMAN\", \"ILF3_HUMAN\", \"YBOX1_HUMAN\", \"THOC4_HUMAN\", \"TFG_HUMAN\"]]"
   ]
  },
  {
   "cell_type": "markdown",
   "metadata": {},
   "source": [
    "<h1>4. Use method to predict phase separating proteins</h1>"
   ]
  },
  {
   "cell_type": "markdown",
   "metadata": {},
   "source": [
    "<h3>4.1 Prediction of the second proteome</h3>"
   ]
  },
  {
   "cell_type": "code",
   "execution_count": 29,
   "metadata": {},
   "outputs": [],
   "source": [
    "def predict_proteome(df, clf, instance, testing_size, feature_imp=True, remove_training=False, second_df=pd.DataFrame()):\n",
    "    pd.set_option('mode.chained_assignment', None)    \n",
    "    prediction = df.select_dtypes(include='object')\n",
    "    df = df.select_dtypes([np.number])\n",
    "    if len(second_df) > 0:\n",
    "        prediction = second_df.select_dtypes(include='object')\n",
    "        second_df = second_df.select_dtypes([np.number]) \n",
    "    indexes = get_test_train_indexes(df, instance)\n",
    "    count = 0  \n",
    "    fi_data = None\n",
    "    for index in tqdm(indexes):\n",
    "        df_fraction = df.loc[index]        \n",
    "    # Also consider X_test index for prediction in the proteome    \n",
    "        X = df_fraction.drop(instance, axis=1)        \n",
    "        y = df_fraction[instance]\n",
    "        clf.fit(X, y)           \n",
    "    # Feature importance\n",
    "        if feature_imp:        \n",
    "            #X = df_fraction.drop('llps', axis=1)\n",
    "            fi = clf.feature_importances_\n",
    "            fi = pd.DataFrame(fi).transpose()\n",
    "            fi.columns = X.columns\n",
    "            fi = fi.melt()\n",
    "            fi = fi.sort_values('value', ascending=False) \n",
    "            if fi_data is None:\n",
    "                fi_data = fi            \n",
    "            else:\n",
    "                fi_data = pd.merge(fi_data, fi, on='variable')  \n",
    "    # Make prediction\n",
    "        if len(second_df) > 0:\n",
    "            probability = clf.predict_proba(second_df.drop(instance, axis=1))[:, 1]\n",
    "            prediction['probability_'+str(count)] = probability\n",
    "        else:\n",
    "            probability = clf.predict_proba(df.drop(instance, axis=1))[:, 1]  \n",
    "            prediction['probability_'+str(count)] = probability        \n",
    "    # Removing prediction that were used in the train test set.\n",
    "        if remove_training:\n",
    "            for i in index:\n",
    "                prediction.loc[i, 'probability_'+str(count)] = np.nan        \n",
    "        count += 1\n",
    "    if feature_imp:\n",
    "        return prediction , fi_data\n",
    "    else:\n",
    "        return prediction"
   ]
  },
  {
   "cell_type": "markdown",
   "metadata": {},
   "source": [
    "<h3>4.1.1 Predict proteome with RF</h3>"
   ]
  },
  {
   "cell_type": "code",
   "execution_count": 46,
   "metadata": {},
   "outputs": [],
   "source": [
    "# load : load a .pkl file with sequences of interest\n",
    "# important: this file has to be processed through workbook 1 and 2 as well\n",
    "second_df = pickle.load(open(\"/path/to/second/proteome/defined/in/workbook1and2.pkl\", \"rb\"))"
   ]
  },
  {
   "cell_type": "code",
   "execution_count": 31,
   "metadata": {},
   "outputs": [],
   "source": [
    "def preprocess_and_scaledata2(data, instance):\n",
    "    try:\n",
    "        df2 = data.drop(['iupred', 'HydroPhobicIndex', 'uniprot_id', 'PRDaa'], axis=1)\n",
    "    except KeyError:\n",
    "        df2 = data.drop(['iupred', 'HydroPhobicIndex', 'uniprot_id'], axis=1)\n",
    "    df2 = data.fillna(value=0)\n",
    "    print(df2.shape)\n",
    "    print('Number of phase separating proteins in dataset: '+str(data.loc[df2[instance] == 1].shape[0]))\n",
    "    print(df2.shape)\n",
    "    \n",
    "    # scaler = QuantileTransformer(output_distribution='normal')\n",
    "    scaler = QuantileTransformer()\n",
    "    df2 = df2.fillna(0)\n",
    "    df2 = preprocess_data(df2, scaler)\n",
    "    #processed_data = remove_correlating_features(processed_data, cutoff=.95)\n",
    "    #processed_data = remove_low_variance_features(processed_data, variance_cutoff=0.08)\n",
    "    return df2\n"
   ]
  },
  {
   "cell_type": "code",
   "execution_count": 47,
   "metadata": {},
   "outputs": [
    {
     "name": "stdout",
     "output_type": "stream",
     "text": [
      "(20381, 99)\n",
      "Number of phase separating proteins in dataset: 91\n",
      "(20381, 99)\n"
     ]
    }
   ],
   "source": [
    "df2 = preprocess_and_scaledata2(second_df, instance)"
   ]
  },
  {
   "cell_type": "code",
   "execution_count": 48,
   "metadata": {},
   "outputs": [],
   "source": [
    "# make column names consistent\n",
    "df2 = df2.drop(['iupred', 'HydroPhobicIndex', 'uniprot_id'], axis=1)\n",
    "# data2 = data.drop(['domain RNA Binding','domain Zinc finger','domain Other'], axis=1) # only if domain analyses was done\n"
   ]
  },
  {
   "cell_type": "code",
   "execution_count": 42,
   "metadata": {},
   "outputs": [
    {
     "name": "stderr",
     "output_type": "stream",
     "text": [
      "100%|██████████| 216/216 [23:29<00:00,  6.53s/it]\n"
     ]
    }
   ],
   "source": [
    "# Predict second df. This will predict the input file a total of 216 times. \n",
    "# first dataframe is the one generated above and is called 'data'\n",
    "# the second dataframe (the one to be predicted) is called df2\n",
    "\n",
    "prediction, fi_data = predict_proteome(data,\n",
    "                                       clf,\n",
    "                                       instance='llps',\n",
    "                                       testing_size=.2,\n",
    "                                       # remove_training=True,\n",
    "                                       second_df=df2,\n",
    "                                      )"
   ]
  },
  {
   "cell_type": "code",
   "execution_count": 44,
   "metadata": {},
   "outputs": [],
   "source": [
    "# export prediction values. \n",
    "# the average value of the 216 columns represent the final predicted probability\n",
    "prediction.to_csv('/path/to/output_predictions.csv')"
   ]
  }
 ],
 "metadata": {
  "kernelspec": {
   "display_name": "Python 3",
   "language": "python",
   "name": "python3"
  },
  "language_info": {
   "codemirror_mode": {
    "name": "ipython",
    "version": 3
   },
   "file_extension": ".py",
   "mimetype": "text/x-python",
   "name": "python",
   "nbconvert_exporter": "python",
   "pygments_lexer": "ipython3",
   "version": "3.6.8"
  }
 },
 "nbformat": 4,
 "nbformat_minor": 2
}
