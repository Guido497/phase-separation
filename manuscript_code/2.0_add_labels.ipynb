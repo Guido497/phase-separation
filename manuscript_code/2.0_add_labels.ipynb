{
 "cells": [
  {
   "cell_type": "markdown",
   "metadata": {},
   "source": [
    "To do\n",
    "* Change to read files"
   ]
  },
  {
   "cell_type": "code",
   "execution_count": 2,
   "metadata": {},
   "outputs": [],
   "source": [
    "import os\n",
    "import ntpath\n",
    "import pandas as pd\n",
    "from Bio import SeqIO"
   ]
  },
  {
   "cell_type": "code",
   "execution_count": 3,
   "metadata": {},
   "outputs": [],
   "source": [
    "THIS_PATH = str(os.getcwd())\n",
    "SPECIES_DATAFRAMES = {\n",
    "    #'human': THIS_PATH+'/data/dataframes/UP000005640_9606_llps_f2f_23-9-2020.pkl',\n",
    "    'human': THIS_PATH+'/data/Dataframes/UP000005640_9606_llps_f2f_19-11-2020.pkl',\n",
    "}\n",
    "\n",
    "class IuPred:\n",
    "    def __init__(self, glob, short, long):\n",
    "        self.glob = glob\n",
    "        self.short = short\n",
    "        self.long = long\n",
    "\n",
    "\n",
    "class HydroPhobicIndex:\n",
    "    def __init__(self, hpilist):\n",
    "        self.hpilist = hpilist\n",
    "        \n",
    "        \n",
    "def set_identifiers(df, uniprot_ids, identifier_name):\n",
    "    uniprot_ids = [s.strip() for s in uniprot_ids.splitlines()]\n",
    "    df[identifier_name] = 0\n",
    "    for prot_id in uniprot_ids:\n",
    "        df.loc[df['uniprot_id'] == prot_id, identifier_name] = 1\n",
    "        if (len(df.loc[df['uniprot_id'] == prot_id])) == 0:\n",
    "            print(prot_id+' is not found.')\n",
    "    return df"
   ]
  },
  {
   "cell_type": "markdown",
   "metadata": {},
   "source": [
    "Literaterue found, and SwissProt reviewed"
   ]
  },
  {
   "cell_type": "code",
   "execution_count": 4,
   "metadata": {},
   "outputs": [],
   "source": [
    "uniprot_ids = '''Q99700\n",
    "O60885\n",
    "Q14781\n",
    "P45973\n",
    "P38432\n",
    "Q7Z5Q1\n",
    "O00571\n",
    "Q9NQI0\n",
    "O43781\n",
    "Q04637\n",
    "Q15056\n",
    "P15502\n",
    "Q01844\n",
    "P22087\n",
    "Q06787\n",
    "P35637\n",
    "Q13283\n",
    "Q9UN86\n",
    "P10071\n",
    "P62993\n",
    "Q13151\n",
    "P09651\n",
    "Q32P51\n",
    "P22626\n",
    "P51991\n",
    "O14979\n",
    "P31943\n",
    "P55795\n",
    "P31942\n",
    "O43561\n",
    "P10636\n",
    "P43243\n",
    "Q15648\n",
    "P19338\n",
    "P06748\n",
    "Q15233\n",
    "P52948\n",
    "Q01860\n",
    "P11940\n",
    "P29590\n",
    "Q8WXF1\n",
    "Q96PK6\n",
    "P98179\n",
    "P23246\n",
    "Q16637\n",
    "P00441\n",
    "Q07889\n",
    "P23497\n",
    "Q07955\n",
    "Q01130\n",
    "O95793\n",
    "O75683\n",
    "Q92804\n",
    "Q13148\n",
    "Q15554\n",
    "P31483\n",
    "Q01085\n",
    "Q9UHD9\n",
    "P46937\n",
    "Q15059\n",
    "P10644\n",
    "P54727\n",
    "Q13501\n",
    "Q9NPI6\n",
    "O00444\n",
    "Q53HL2\n",
    "Q9ULW0\n",
    "Q9Y6A5\n",
    "Q96LT7\n",
    "P06748\n",
    "Q16236\n",
    "O43823\n",
    "Q07157\n",
    "Q9UDY2\n",
    "O95049\n",
    "Q9Y6M1\n",
    "Q6NT89\n",
    "Q8NC56\n",
    "P04150\n",
    "Q9BYJ9\n",
    "Q9Y5A9\n",
    "Q7Z739\n",
    "P10997\n",
    "Q9GZV5\n",
    "P51608\n",
    "O14979\n",
    "P43351\n",
    "Q08379\n",
    "P08621\n",
    "Q15424\n",
    "Q16630\n",
    "P18615\n",
    "P48443\n",
    "'''"
   ]
  },
  {
   "cell_type": "code",
   "execution_count": 5,
   "metadata": {},
   "outputs": [],
   "source": [
    "path = os.getcwd()+'/data/Dataframes/UP000005640_9606_llps_f2f_19-11-2020.pkl'\n",
    "df = pd.read_pickle(path)\n",
    "df.shape\n",
    "#df = pd.read_pickle(SPECIES_DATAFRAMES['human'])\n",
    "df = set_identifiers(df, uniprot_ids, identifier_name = 'llps')\n",
    "#df.to_pickle('data/Dataframes/human_90_240320.pkl')\n",
    "#print(df.loc[df['llps'] == 1].shape)\n",
    "#print(len(df[df['llps']== 1]))"
   ]
  },
  {
   "cell_type": "code",
   "execution_count": 8,
   "metadata": {},
   "outputs": [
    {
     "data": {
      "text/html": [
       "<div>\n",
       "<style scoped>\n",
       "    .dataframe tbody tr th:only-of-type {\n",
       "        vertical-align: middle;\n",
       "    }\n",
       "\n",
       "    .dataframe tbody tr th {\n",
       "        vertical-align: top;\n",
       "    }\n",
       "\n",
       "    .dataframe thead th {\n",
       "        text-align: right;\n",
       "    }\n",
       "</style>\n",
       "<table border=\"1\" class=\"dataframe\">\n",
       "  <thead>\n",
       "    <tr style=\"text-align: right;\">\n",
       "      <th></th>\n",
       "      <th>protein_name</th>\n",
       "      <th>uniprot_id</th>\n",
       "      <th>sequence</th>\n",
       "      <th>fraction_A</th>\n",
       "      <th>fraction_C</th>\n",
       "      <th>fraction_D</th>\n",
       "      <th>fraction_E</th>\n",
       "      <th>fraction_F</th>\n",
       "      <th>fraction_G</th>\n",
       "      <th>fraction_H</th>\n",
       "      <th>...</th>\n",
       "      <th>V_lcscore</th>\n",
       "      <th>V_lcfraction</th>\n",
       "      <th>W_lcscore</th>\n",
       "      <th>W_lcfraction</th>\n",
       "      <th>Y_lcscore</th>\n",
       "      <th>Y_lcfraction</th>\n",
       "      <th>lcs_fractions</th>\n",
       "      <th>lcs_scores</th>\n",
       "      <th>lcs_lowest_complexity</th>\n",
       "      <th>llps</th>\n",
       "    </tr>\n",
       "  </thead>\n",
       "  <tbody>\n",
       "  </tbody>\n",
       "</table>\n",
       "<p>0 rows × 99 columns</p>\n",
       "</div>"
      ],
      "text/plain": [
       "Empty DataFrame\n",
       "Columns: [protein_name, uniprot_id, sequence, fraction_A, fraction_C, fraction_D, fraction_E, fraction_F, fraction_G, fraction_H, fraction_I, fraction_K, fraction_L, fraction_M, fraction_N, fraction_P, fraction_Q, fraction_R, fraction_S, fraction_T, fraction_V, fraction_W, fraction_Y, length, IEP, molecular_weight, gravy, iupred, HydroPhobicIndex, idr_percetage, idr_50, idr_60, idr_70, idr_80, idr_90, hpi_<-1.5_frac, hpi_<-2.0_frac, hpi_<-2.5_frac, hpi_<-1.5, hpi_<-2.0, hpi_<-2.5, Asx, Glx, Xle, Pos_charge, Neg_charge, Aromatic, Alipatic, Small, Hydrophilic, Hydrophobic, alpha_helix, beta_turn, beta_sheet, aromaticity, A_lcscore, A_lcfraction, C_lcscore, C_lcfraction, D_lcscore, D_lcfraction, E_lcscore, E_lcfraction, F_lcscore, F_lcfraction, G_lcscore, G_lcfraction, H_lcscore, H_lcfraction, I_lcscore, I_lcfraction, K_lcscore, K_lcfraction, L_lcscore, L_lcfraction, M_lcscore, M_lcfraction, N_lcscore, N_lcfraction, P_lcscore, P_lcfraction, Q_lcscore, Q_lcfraction, R_lcscore, R_lcfraction, S_lcscore, S_lcfraction, T_lcscore, T_lcfraction, V_lcscore, V_lcfraction, W_lcscore, W_lcfraction, Y_lcscore, Y_lcfraction, lcs_fractions, lcs_scores, lcs_lowest_complexity, llps]\n",
       "Index: []\n",
       "\n",
       "[0 rows x 99 columns]"
      ]
     },
     "execution_count": 8,
     "metadata": {},
     "output_type": "execute_result"
    }
   ],
   "source": [
    "df[df[\"protein_name\"].str.contains(\"YBX\")]"
   ]
  },
  {
   "cell_type": "code",
   "execution_count": 6,
   "metadata": {},
   "outputs": [
    {
     "data": {
      "text/plain": [
       "(20600, 98)"
      ]
     },
     "execution_count": 6,
     "metadata": {},
     "output_type": "execute_result"
    }
   ],
   "source": []
  },
  {
   "cell_type": "code",
   "execution_count": 7,
   "metadata": {},
   "outputs": [
    {
     "data": {
      "text/plain": [
       "(91, 99)"
      ]
     },
     "execution_count": 7,
     "metadata": {},
     "output_type": "execute_result"
    }
   ],
   "source": []
  },
  {
   "cell_type": "code",
   "execution_count": 7,
   "metadata": {},
   "outputs": [
    {
     "name": "stdout",
     "output_type": "stream",
     "text": [
      "0 SourceCodeS2/pscore.out\r\n"
     ]
    }
   ],
   "source": [
    "!wc -l SourceCodeS2/pscore.out"
   ]
  },
  {
   "cell_type": "code",
   "execution_count": 8,
   "metadata": {},
   "outputs": [],
   "source": []
  }
 ],
 "metadata": {
  "kernelspec": {
   "display_name": "Python [conda env:scepia]",
   "language": "python",
   "name": "conda-env-scepia-py"
  },
  "language_info": {
   "codemirror_mode": {
    "name": "ipython",
    "version": 3
   },
   "file_extension": ".py",
   "mimetype": "text/x-python",
   "name": "python",
   "nbconvert_exporter": "python",
   "pygments_lexer": "ipython3",
   "version": "3.8.6"
  }
 },
 "nbformat": 4,
 "nbformat_minor": 2
}
