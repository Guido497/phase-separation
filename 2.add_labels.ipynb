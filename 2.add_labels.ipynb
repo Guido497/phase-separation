{
 "cells": [
  {
   "cell_type": "code",
   "execution_count": 1,
   "metadata": {
    "collapsed": true,
    "deletable": true,
    "editable": true
   },
   "outputs": [],
   "source": [
    "import os\n",
    "import ntpath\n",
    "import pandas as pd\n",
    "from Bio import SeqIO"
   ]
  },
  {
   "cell_type": "code",
   "execution_count": 2,
   "metadata": {
    "collapsed": false,
    "deletable": true,
    "editable": true
   },
   "outputs": [],
   "source": [
    "THIS_PATH = str(os.getcwd())\n",
    "SPECIES_DATAFRAMES = {\n",
    "    'human': THIS_PATH+'\\\\data\\\\dataframes\\\\PDB_human_llps_f2f_18-12-2019.pkl',\n",
    "}\n",
    "\n",
    "class IuPred:\n",
    "    def __init__(self, glob, short, long):\n",
    "        self.glob = glob\n",
    "        self.short = short\n",
    "        self.long = long\n",
    "\n",
    "\n",
    "class HydroPhobicIndex:\n",
    "    def __init__(self, hpilist):\n",
    "        self.hpilist = hpilist\n",
    "        \n",
    "        \n",
    "def set_identifiers(df, uniprot_ids, identifier_name):\n",
    "    uniprot_ids = [s.strip() for s in uniprot_ids.splitlines()]\n",
    "    df[identifier_name] = 0\n",
    "    for prot_id in uniprot_ids:\n",
    "        df.loc[df['uniprot_id'] == prot_id, identifier_name] = 1\n",
    "        if (len(df.loc[df['uniprot_id'] == prot_id])) == 0:\n",
    "            #print(prot_id+' is not found.')\n",
    "            print(prot_id)\n",
    "    return df"
   ]
  },
  {
   "cell_type": "markdown",
   "metadata": {
    "deletable": true,
    "editable": true
   },
   "source": [
    "Literaterue found, and SwissProt reviewed"
   ]
  },
  {
   "cell_type": "code",
   "execution_count": 3,
   "metadata": {
    "collapsed": true,
    "deletable": true,
    "editable": true
   },
   "outputs": [],
   "source": [
    "uniprot_ids = '''O60885\n",
    "Q14781\n",
    "P38432\n",
    "O00571\n",
    "Q9NQI0\n",
    "O43781\n",
    "Q15056\n",
    "Q01844\n",
    "P35637\n",
    "Q13283\n",
    "Q9UN86\n",
    "P10071\n",
    "P09651\n",
    "Q15648\n",
    "Q01860\n",
    "Q96PK6\n",
    "Q16637\n",
    "P00441\n",
    "Q01130\n",
    "Q92804\n",
    "Q13148\n",
    "P31483\n",
    "P46937\n",
    "P45973\n",
    "P11940\n",
    "Q07955\n",
    "P29590\n",
    "Q8WXF1\n",
    "P23497\n",
    "Q04637\n",
    "O95793\n",
    "Q99700\n",
    "P98179\n",
    "Q7Z5Q1\n",
    "Q06787\n",
    "Q07889\n",
    "O43561-2\n",
    "P62993\n",
    "P15502\n",
    "P06748\n",
    "P10636\n",
    "P22626\n",
    "P52948\n",
    "Q01085\n",
    "P51991\n",
    "Q32P51\n",
    "P31943\n",
    "P31942\n",
    "O14979\n",
    "P55795\n",
    "Q13151\n",
    "O75683\n",
    "Q9UHD9\n",
    "P43243\n",
    "Q15233\n",
    "P23246\n",
    "P19338\n",
    "P22087\n",
    "Q15554\n",
    "'''"
   ]
  },
  {
   "cell_type": "code",
   "execution_count": 20,
   "metadata": {
    "collapsed": false,
    "deletable": true,
    "editable": true
   },
   "outputs": [],
   "source": [
    "path = os.getcwd()+'\\\\data\\\\dataframes\\\\PDB_human_llps_f2f_18-12-2019.pkl'\n",
    "df = pd.read_pickle(path)"
   ]
  },
  {
   "cell_type": "code",
   "execution_count": 4,
   "metadata": {
    "collapsed": false,
    "deletable": true,
    "editable": true
   },
   "outputs": [
    {
     "name": "stdout",
     "output_type": "stream",
     "text": [
      "Q15554\n"
     ]
    },
    {
     "data": {
      "text/plain": [
       "(58, 99)"
      ]
     },
     "execution_count": 4,
     "metadata": {},
     "output_type": "execute_result"
    }
   ],
   "source": [
    "df = pd.read_pickle(SPECIES_DATAFRAMES['human'])\n",
    "df = set_identifiers(df, uniprot_ids, identifier_name = 'llps')\n",
    "df.loc[df['llps'] == 1].shape"
   ]
  },
  {
   "cell_type": "code",
   "execution_count": 5,
   "metadata": {
    "collapsed": true,
    "deletable": true,
    "editable": true
   },
   "outputs": [],
   "source": [
    "df.to_pickle('data\\\\dataframes\\\\PDB_human_58_201219.pkl')"
   ]
  }
 ],
 "metadata": {
  "kernelspec": {
   "display_name": "Python 3",
   "language": "python",
   "name": "python3"
  },
  "language_info": {
   "codemirror_mode": {
    "name": "ipython",
    "version": 3
   },
   "file_extension": ".py",
   "mimetype": "text/x-python",
   "name": "python",
   "nbconvert_exporter": "python",
   "pygments_lexer": "ipython3",
   "version": "3.5.2"
  }
 },
 "nbformat": 4,
 "nbformat_minor": 2
}
